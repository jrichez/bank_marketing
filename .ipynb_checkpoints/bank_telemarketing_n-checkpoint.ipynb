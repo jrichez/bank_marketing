{
 "cells": [
  {
   "cell_type": "code",
   "execution_count": 1,
   "id": "71f54400",
   "metadata": {},
   "outputs": [],
   "source": [
    "import pandas as pd \n",
    "import numpy as np\n",
    "import matplotlib.pyplot as plt \n",
    "import seaborn as sns"
   ]
  },
  {
   "cell_type": "code",
   "execution_count": 2,
   "id": "5bb8d7f0",
   "metadata": {},
   "outputs": [],
   "source": [
    "df = pd.read_csv('bank-additional-full.csv', sep=';')"
   ]
  },
  {
   "cell_type": "code",
   "execution_count": 3,
   "id": "764e0eae",
   "metadata": {},
   "outputs": [
    {
     "data": {
      "text/html": [
       "<div>\n",
       "<style scoped>\n",
       "    .dataframe tbody tr th:only-of-type {\n",
       "        vertical-align: middle;\n",
       "    }\n",
       "\n",
       "    .dataframe tbody tr th {\n",
       "        vertical-align: top;\n",
       "    }\n",
       "\n",
       "    .dataframe thead th {\n",
       "        text-align: right;\n",
       "    }\n",
       "</style>\n",
       "<table border=\"1\" class=\"dataframe\">\n",
       "  <thead>\n",
       "    <tr style=\"text-align: right;\">\n",
       "      <th></th>\n",
       "      <th>age</th>\n",
       "      <th>job</th>\n",
       "      <th>marital</th>\n",
       "      <th>education</th>\n",
       "      <th>default</th>\n",
       "      <th>housing</th>\n",
       "      <th>loan</th>\n",
       "      <th>contact</th>\n",
       "      <th>month</th>\n",
       "      <th>day_of_week</th>\n",
       "      <th>...</th>\n",
       "      <th>campaign</th>\n",
       "      <th>pdays</th>\n",
       "      <th>previous</th>\n",
       "      <th>poutcome</th>\n",
       "      <th>emp.var.rate</th>\n",
       "      <th>cons.price.idx</th>\n",
       "      <th>cons.conf.idx</th>\n",
       "      <th>euribor3m</th>\n",
       "      <th>nr.employed</th>\n",
       "      <th>y</th>\n",
       "    </tr>\n",
       "  </thead>\n",
       "  <tbody>\n",
       "    <tr>\n",
       "      <th>0</th>\n",
       "      <td>56</td>\n",
       "      <td>housemaid</td>\n",
       "      <td>married</td>\n",
       "      <td>basic.4y</td>\n",
       "      <td>no</td>\n",
       "      <td>no</td>\n",
       "      <td>no</td>\n",
       "      <td>telephone</td>\n",
       "      <td>may</td>\n",
       "      <td>mon</td>\n",
       "      <td>...</td>\n",
       "      <td>1</td>\n",
       "      <td>999</td>\n",
       "      <td>0</td>\n",
       "      <td>nonexistent</td>\n",
       "      <td>1.1</td>\n",
       "      <td>93.994</td>\n",
       "      <td>-36.4</td>\n",
       "      <td>4.857</td>\n",
       "      <td>5191.0</td>\n",
       "      <td>no</td>\n",
       "    </tr>\n",
       "    <tr>\n",
       "      <th>1</th>\n",
       "      <td>57</td>\n",
       "      <td>services</td>\n",
       "      <td>married</td>\n",
       "      <td>high.school</td>\n",
       "      <td>unknown</td>\n",
       "      <td>no</td>\n",
       "      <td>no</td>\n",
       "      <td>telephone</td>\n",
       "      <td>may</td>\n",
       "      <td>mon</td>\n",
       "      <td>...</td>\n",
       "      <td>1</td>\n",
       "      <td>999</td>\n",
       "      <td>0</td>\n",
       "      <td>nonexistent</td>\n",
       "      <td>1.1</td>\n",
       "      <td>93.994</td>\n",
       "      <td>-36.4</td>\n",
       "      <td>4.857</td>\n",
       "      <td>5191.0</td>\n",
       "      <td>no</td>\n",
       "    </tr>\n",
       "    <tr>\n",
       "      <th>2</th>\n",
       "      <td>37</td>\n",
       "      <td>services</td>\n",
       "      <td>married</td>\n",
       "      <td>high.school</td>\n",
       "      <td>no</td>\n",
       "      <td>yes</td>\n",
       "      <td>no</td>\n",
       "      <td>telephone</td>\n",
       "      <td>may</td>\n",
       "      <td>mon</td>\n",
       "      <td>...</td>\n",
       "      <td>1</td>\n",
       "      <td>999</td>\n",
       "      <td>0</td>\n",
       "      <td>nonexistent</td>\n",
       "      <td>1.1</td>\n",
       "      <td>93.994</td>\n",
       "      <td>-36.4</td>\n",
       "      <td>4.857</td>\n",
       "      <td>5191.0</td>\n",
       "      <td>no</td>\n",
       "    </tr>\n",
       "    <tr>\n",
       "      <th>3</th>\n",
       "      <td>40</td>\n",
       "      <td>admin.</td>\n",
       "      <td>married</td>\n",
       "      <td>basic.6y</td>\n",
       "      <td>no</td>\n",
       "      <td>no</td>\n",
       "      <td>no</td>\n",
       "      <td>telephone</td>\n",
       "      <td>may</td>\n",
       "      <td>mon</td>\n",
       "      <td>...</td>\n",
       "      <td>1</td>\n",
       "      <td>999</td>\n",
       "      <td>0</td>\n",
       "      <td>nonexistent</td>\n",
       "      <td>1.1</td>\n",
       "      <td>93.994</td>\n",
       "      <td>-36.4</td>\n",
       "      <td>4.857</td>\n",
       "      <td>5191.0</td>\n",
       "      <td>no</td>\n",
       "    </tr>\n",
       "    <tr>\n",
       "      <th>4</th>\n",
       "      <td>56</td>\n",
       "      <td>services</td>\n",
       "      <td>married</td>\n",
       "      <td>high.school</td>\n",
       "      <td>no</td>\n",
       "      <td>no</td>\n",
       "      <td>yes</td>\n",
       "      <td>telephone</td>\n",
       "      <td>may</td>\n",
       "      <td>mon</td>\n",
       "      <td>...</td>\n",
       "      <td>1</td>\n",
       "      <td>999</td>\n",
       "      <td>0</td>\n",
       "      <td>nonexistent</td>\n",
       "      <td>1.1</td>\n",
       "      <td>93.994</td>\n",
       "      <td>-36.4</td>\n",
       "      <td>4.857</td>\n",
       "      <td>5191.0</td>\n",
       "      <td>no</td>\n",
       "    </tr>\n",
       "  </tbody>\n",
       "</table>\n",
       "<p>5 rows × 21 columns</p>\n",
       "</div>"
      ],
      "text/plain": [
       "   age        job  marital    education  default housing loan    contact  \\\n",
       "0   56  housemaid  married     basic.4y       no      no   no  telephone   \n",
       "1   57   services  married  high.school  unknown      no   no  telephone   \n",
       "2   37   services  married  high.school       no     yes   no  telephone   \n",
       "3   40     admin.  married     basic.6y       no      no   no  telephone   \n",
       "4   56   services  married  high.school       no      no  yes  telephone   \n",
       "\n",
       "  month day_of_week  ...  campaign  pdays  previous     poutcome emp.var.rate  \\\n",
       "0   may         mon  ...         1    999         0  nonexistent          1.1   \n",
       "1   may         mon  ...         1    999         0  nonexistent          1.1   \n",
       "2   may         mon  ...         1    999         0  nonexistent          1.1   \n",
       "3   may         mon  ...         1    999         0  nonexistent          1.1   \n",
       "4   may         mon  ...         1    999         0  nonexistent          1.1   \n",
       "\n",
       "   cons.price.idx  cons.conf.idx  euribor3m  nr.employed   y  \n",
       "0          93.994          -36.4      4.857       5191.0  no  \n",
       "1          93.994          -36.4      4.857       5191.0  no  \n",
       "2          93.994          -36.4      4.857       5191.0  no  \n",
       "3          93.994          -36.4      4.857       5191.0  no  \n",
       "4          93.994          -36.4      4.857       5191.0  no  \n",
       "\n",
       "[5 rows x 21 columns]"
      ]
     },
     "execution_count": 3,
     "metadata": {},
     "output_type": "execute_result"
    }
   ],
   "source": [
    "df.head()"
   ]
  },
  {
   "cell_type": "code",
   "execution_count": 4,
   "id": "c92064d8",
   "metadata": {},
   "outputs": [
    {
     "data": {
      "text/plain": [
       "(41188, 21)"
      ]
     },
     "execution_count": 4,
     "metadata": {},
     "output_type": "execute_result"
    }
   ],
   "source": [
    "df.shape"
   ]
  },
  {
   "cell_type": "code",
   "execution_count": 5,
   "id": "b0da2a45",
   "metadata": {},
   "outputs": [
    {
     "data": {
      "text/plain": [
       "age               0\n",
       "job               0\n",
       "marital           0\n",
       "education         0\n",
       "default           0\n",
       "housing           0\n",
       "loan              0\n",
       "contact           0\n",
       "month             0\n",
       "day_of_week       0\n",
       "duration          0\n",
       "campaign          0\n",
       "pdays             0\n",
       "previous          0\n",
       "poutcome          0\n",
       "emp.var.rate      0\n",
       "cons.price.idx    0\n",
       "cons.conf.idx     0\n",
       "euribor3m         0\n",
       "nr.employed       0\n",
       "y                 0\n",
       "dtype: int64"
      ]
     },
     "execution_count": 5,
     "metadata": {},
     "output_type": "execute_result"
    }
   ],
   "source": [
    "df.isna().sum()"
   ]
  },
  {
   "cell_type": "code",
   "execution_count": 6,
   "id": "c6f427f5",
   "metadata": {
    "scrolled": true
   },
   "outputs": [
    {
     "data": {
      "text/plain": [
       "no     36548\n",
       "yes     4640\n",
       "Name: y, dtype: int64"
      ]
     },
     "execution_count": 6,
     "metadata": {},
     "output_type": "execute_result"
    }
   ],
   "source": [
    "df.y.value_counts()"
   ]
  },
  {
   "cell_type": "code",
   "execution_count": 7,
   "id": "80fd0af8",
   "metadata": {},
   "outputs": [
    {
     "name": "stdout",
     "output_type": "stream",
     "text": [
      "<class 'pandas.core.frame.DataFrame'>\n",
      "RangeIndex: 41188 entries, 0 to 41187\n",
      "Data columns (total 21 columns):\n",
      " #   Column          Non-Null Count  Dtype  \n",
      "---  ------          --------------  -----  \n",
      " 0   age             41188 non-null  int64  \n",
      " 1   job             41188 non-null  object \n",
      " 2   marital         41188 non-null  object \n",
      " 3   education       41188 non-null  object \n",
      " 4   default         41188 non-null  object \n",
      " 5   housing         41188 non-null  object \n",
      " 6   loan            41188 non-null  object \n",
      " 7   contact         41188 non-null  object \n",
      " 8   month           41188 non-null  object \n",
      " 9   day_of_week     41188 non-null  object \n",
      " 10  duration        41188 non-null  int64  \n",
      " 11  campaign        41188 non-null  int64  \n",
      " 12  pdays           41188 non-null  int64  \n",
      " 13  previous        41188 non-null  int64  \n",
      " 14  poutcome        41188 non-null  object \n",
      " 15  emp.var.rate    41188 non-null  float64\n",
      " 16  cons.price.idx  41188 non-null  float64\n",
      " 17  cons.conf.idx   41188 non-null  float64\n",
      " 18  euribor3m       41188 non-null  float64\n",
      " 19  nr.employed     41188 non-null  float64\n",
      " 20  y               41188 non-null  object \n",
      "dtypes: float64(5), int64(5), object(11)\n",
      "memory usage: 6.6+ MB\n"
     ]
    }
   ],
   "source": [
    "df.info()"
   ]
  },
  {
   "cell_type": "markdown",
   "id": "2db501ae",
   "metadata": {},
   "source": [
    " Some basics observations : \n",
    " \n",
    "> The goal is to predict if a person will suscribed (feature : y)\n",
    "\n",
    "> It's a binary classification\n",
    "\n",
    "> We have 21 features \n",
    "\n",
    "> No missing values   \n",
    "\n",
    "> The class to predict is pretty imbalanced    \n",
    "\n",
    "> We have numerical and categorical variables"
   ]
  },
  {
   "cell_type": "code",
   "execution_count": 8,
   "id": "1568f1a1",
   "metadata": {},
   "outputs": [
    {
     "data": {
      "text/plain": [
       "'\\nEDA \\nOutliers\\nEncoder\\nSplit\\nBaseline model \\nFeature engineering\\nModel\\nHyperparameter tuning\\n'"
      ]
     },
     "execution_count": 8,
     "metadata": {},
     "output_type": "execute_result"
    }
   ],
   "source": [
    "\"\"\"\n",
    "EDA \n",
    "Outliers\n",
    "Encoder\n",
    "Split\n",
    "Baseline model \n",
    "Feature engineering\n",
    "Model\n",
    "Hyperparameter tuning\n",
    "\"\"\""
   ]
  },
  {
   "cell_type": "markdown",
   "id": "de97e5f9",
   "metadata": {},
   "source": [
    "## EDA"
   ]
  },
  {
   "cell_type": "code",
   "execution_count": 9,
   "id": "d409dd53",
   "metadata": {},
   "outputs": [],
   "source": [
    "var_num = df.select_dtypes(include=['float64', 'int64'])\n",
    "var_cat = df.select_dtypes(exclude=['float64', 'int64'])"
   ]
  },
  {
   "cell_type": "code",
   "execution_count": 10,
   "id": "23cde5fb",
   "metadata": {},
   "outputs": [
    {
     "data": {
      "image/png": "[encoded data removed]",
      "text/plain": [
       "<Figure size 1080x936 with 10 Axes>"
      ]
     },
     "metadata": {
      "needs_background": "light"
     },
     "output_type": "display_data"
    }
   ],
   "source": [
    "c = 1 \n",
    "nrows = round(len(var_num.columns) / 3) + 1\n",
    "fig = plt.figure(figsize=(15,13))\n",
    "for i in var_num.columns:\n",
    "    plt.subplot(nrows, 3, c)\n",
    "    sns.histplot(x=i, hue='y', data=df)\n",
    "    c += 1 \n",
    "plt.show()"
   ]
  },
  {
   "cell_type": "markdown",
   "id": "026da8ce",
   "metadata": {},
   "source": [
    "### Age"
   ]
  },
  {
   "cell_type": "code",
   "execution_count": 11,
   "id": "a13569c2",
   "metadata": {
    "scrolled": true
   },
   "outputs": [
    {
     "data": {
      "text/plain": [
       "<AxesSubplot:xlabel='age', ylabel='Count'>"
      ]
     },
     "execution_count": 11,
     "metadata": {},
     "output_type": "execute_result"
    },
    {
     "data": {
      "image/png": "[encoded data removed]",
      "text/plain": [
       "<Figure size 432x288 with 1 Axes>"
      ]
     },
     "metadata": {
      "needs_background": "light"
     },
     "output_type": "display_data"
    }
   ],
   "source": [
    "sns.histplot(x='age', hue='y', data=df)"
   ]
  },
  {
   "cell_type": "markdown",
   "id": "1bc94e8f",
   "metadata": {},
   "source": [
    "Let's cut the values of age in marketing segment"
   ]
  },
  {
   "cell_type": "code",
   "execution_count": 12,
   "id": "56114586",
   "metadata": {},
   "outputs": [],
   "source": [
    "labels = ['0-3', '4-8', '9-12', '13-17', '18-24', '25-34', '35-44', '45-54', '55-64', '65-74', '75-84', '+85']\n",
    "bins = [0, 3, 8, 12, 17, 24, 34, 44, 54, 64, 74, 84, 120]\n",
    "df[\"age_bins\"] = pd.Categorical(pd.cut(df.age, bins, labels=labels), categories=labels, ordered=True)"
   ]
  },
  {
   "cell_type": "code",
   "execution_count": 13,
   "id": "ac0bd52b",
   "metadata": {},
   "outputs": [
    {
     "data": {
      "text/plain": [
       "<AxesSubplot:xlabel='age_bins', ylabel='Count'>"
      ]
     },
     "execution_count": 13,
     "metadata": {},
     "output_type": "execute_result"
    },
    {
     "data": {
      "image/png": "[encoded data removed]",
      "text/plain": [
       "<Figure size 864x288 with 1 Axes>"
      ]
     },
     "metadata": {
      "needs_background": "light"
     },
     "output_type": "display_data"
    }
   ],
   "source": [
    "plt.figure(figsize=(12,4))\n",
    "sns.histplot(x='age_bins', hue='y', data=df)"
   ]
  },
  {
   "cell_type": "code",
   "execution_count": 14,
   "id": "62c769b7",
   "metadata": {},
   "outputs": [],
   "source": [
    "age_grouped = df.groupby(['age_bins', 'y'])['y'].count()\n",
    "age_per = age_grouped.groupby(level=0).apply(lambda x: 100 * x / float(x.sum()))"
   ]
  },
  {
   "cell_type": "code",
   "execution_count": 15,
   "id": "542c7794",
   "metadata": {},
   "outputs": [
    {
     "data": {
      "text/plain": [
       "age_bins  y  \n",
       "75-84     yes    52.606635\n",
       "+85       yes    50.000000\n",
       "65-74     yes    43.908629\n",
       "13-17     yes    40.000000\n",
       "18-24     yes    23.894638\n",
       "55-64     yes    13.568825\n",
       "25-34     yes    12.173024\n",
       "35-44     yes     8.651852\n",
       "45-54     yes     8.651195\n",
       "0-3       yes          NaN\n",
       "4-8       yes          NaN\n",
       "9-12      yes          NaN\n",
       "Name: y, dtype: float64"
      ]
     },
     "execution_count": 15,
     "metadata": {},
     "output_type": "execute_result"
    }
   ],
   "source": [
    "age_per.filter(like='yes').sort_values(ascending=False)"
   ]
  },
  {
   "cell_type": "markdown",
   "id": "b68a7750",
   "metadata": {},
   "source": [
    "> Here we can see the proportion of each category of age with the corresponding percentage of subscriptions\n",
    "\n",
    "> The old persons seem to be more inclined to subscribed (these numbers should be taken with a grain of salt due to the low volume of observations on these categories)"
   ]
  },
  {
   "cell_type": "markdown",
   "id": "8ce443fe",
   "metadata": {},
   "source": [
    "### Campaign"
   ]
  },
  {
   "cell_type": "markdown",
   "id": "d965298c",
   "metadata": {},
   "source": [
    "According to the data description, the feature correspond to the number of times a client has been contacted for this campaign"
   ]
  },
  {
   "cell_type": "code",
   "execution_count": 16,
   "id": "e2412da2",
   "metadata": {
    "scrolled": false
   },
   "outputs": [
    {
     "name": "stderr",
     "output_type": "stream",
     "text": [
      "C:\\Users\\riche\\anaconda3\\lib\\site-packages\\seaborn\\_decorators.py:36: FutureWarning: Pass the following variables as keyword args: x, y. From version 0.12, the only valid positional argument will be `data`, and passing other arguments without an explicit keyword will result in an error or misinterpretation.\n",
      "  warnings.warn(\n"
     ]
    },
    {
     "data": {
      "text/plain": [
       "<seaborn.axisgrid.FacetGrid at 0x1d242cd1fd0>"
      ]
     },
     "execution_count": 16,
     "metadata": {},
     "output_type": "execute_result"
    },
    {
     "data": {
      "image/png": "[encoded data removed]",
      "text/plain": [
       "<Figure size 360x360 with 1 Axes>"
      ]
     },
     "metadata": {
      "needs_background": "light"
     },
     "output_type": "display_data"
    }
   ],
   "source": [
    "sns.catplot('campaign', 'y', data=df)"
   ]
  },
  {
   "cell_type": "markdown",
   "id": "3a225f66",
   "metadata": {},
   "source": [
    "> We can see that people who get a subscription do it before the 15th contacts. In most cases, the client get the subscription before the 10th contact\n",
    "\n",
    "> It doesn't seems to be useful to contact a person much more than 10 times "
   ]
  },
  {
   "cell_type": "code",
   "execution_count": 17,
   "id": "e7702843",
   "metadata": {},
   "outputs": [
    {
     "data": {
      "image/png": "[encoded data removed]",
      "text/plain": [
       "<Figure size 1080x1224 with 11 Axes>"
      ]
     },
     "metadata": {
      "needs_background": "light"
     },
     "output_type": "display_data"
    }
   ],
   "source": [
    "c = 1 \n",
    "nrows = round(len(var_cat.columns) / 3) + 1\n",
    "fig = plt.figure(figsize=(15,17))\n",
    "for i in var_cat.columns:\n",
    "    plt.subplot(nrows, 3, c)\n",
    "    sns.histplot(x=i, hue='y', data=df)\n",
    "    c += 1 \n",
    "plt.show()"
   ]
  },
  {
   "cell_type": "markdown",
   "id": "d5229b49",
   "metadata": {},
   "source": [
    "### Poutcome"
   ]
  },
  {
   "cell_type": "markdown",
   "id": "0661268a",
   "metadata": {},
   "source": [
    "According to the data description, the feature indicates if the client subscribed on the last campaign"
   ]
  },
  {
   "cell_type": "code",
   "execution_count": 18,
   "id": "3ca8ee67",
   "metadata": {},
   "outputs": [
    {
     "data": {
      "text/plain": [
       "<AxesSubplot:xlabel='poutcome', ylabel='Count'>"
      ]
     },
     "execution_count": 18,
     "metadata": {},
     "output_type": "execute_result"
    },
    {
     "data": {
      "image/png": "[encoded data removed]",
      "text/plain": [
       "<Figure size 432x288 with 1 Axes>"
      ]
     },
     "metadata": {
      "needs_background": "light"
     },
     "output_type": "display_data"
    }
   ],
   "source": [
    "sns.histplot(x='poutcome', hue='y', data=df)"
   ]
  },
  {
   "cell_type": "code",
   "execution_count": 19,
   "id": "34c6e713",
   "metadata": {},
   "outputs": [],
   "source": [
    "poutcome_grouped = df.groupby(['poutcome', 'y'])['y'].count()"
   ]
  },
  {
   "cell_type": "code",
   "execution_count": 20,
   "id": "428bd46d",
   "metadata": {},
   "outputs": [
    {
     "data": {
      "text/plain": [
       "poutcome     y  \n",
       "failure      no     85.771402\n",
       "             yes    14.228598\n",
       "nonexistent  no     91.167787\n",
       "             yes     8.832213\n",
       "success      no     34.887109\n",
       "             yes    65.112891\n",
       "Name: y, dtype: float64"
      ]
     },
     "execution_count": 20,
     "metadata": {},
     "output_type": "execute_result"
    }
   ],
   "source": [
    "poutcome_grouped.groupby(level=0).apply(lambda x: 100 * x / float(x.sum()))"
   ]
  },
  {
   "cell_type": "markdown",
   "id": "0966395f",
   "metadata": {},
   "source": [
    "> Here we clearly see that the percentage of subscription is much more high if the result of the previous campaign was a success\n",
    "\n",
    "> Unfortunately the volume of this category is insufficient to make proper conclusions"
   ]
  },
  {
   "cell_type": "markdown",
   "id": "ec6abb47",
   "metadata": {},
   "source": [
    "### Month"
   ]
  },
  {
   "cell_type": "code",
   "execution_count": 21,
   "id": "c084fa33",
   "metadata": {},
   "outputs": [],
   "source": [
    "df['month'] = pd.Categorical(df['month'], categories=['mar', 'apr', 'may', 'jun', 'jul', 'aug', 'sep', 'oct', 'nov', 'dec'],\n",
    "                                   ordered=True)"
   ]
  },
  {
   "cell_type": "code",
   "execution_count": 22,
   "id": "e289794e",
   "metadata": {
    "scrolled": true
   },
   "outputs": [
    {
     "data": {
      "text/plain": [
       "<AxesSubplot:xlabel='month', ylabel='Count'>"
      ]
     },
     "execution_count": 22,
     "metadata": {},
     "output_type": "execute_result"
    },
    {
     "data": {
      "image/png": "[encoded data removed]",
      "text/plain": [
       "<Figure size 432x288 with 1 Axes>"
      ]
     },
     "metadata": {
      "needs_background": "light"
     },
     "output_type": "display_data"
    }
   ],
   "source": [
    "sns.histplot(x='month', hue='y', data=df)"
   ]
  },
  {
   "cell_type": "markdown",
   "id": "4b1a74fd",
   "metadata": {},
   "source": [
    "> The campaign begun in march with the highest number of contacts in may\n",
    "\n",
    "> The number of subscription seems to be regular during all the year, except at the begin and the end of the campaign\n",
    "\n",
    "> The number of subscriptions doesn't seems to be proportional at the number of contacts and tend to a have a maximum of volume"
   ]
  },
  {
   "cell_type": "markdown",
   "id": "771b5861",
   "metadata": {},
   "source": [
    "### Day of the week"
   ]
  },
  {
   "cell_type": "code",
   "execution_count": 23,
   "id": "a9cfb663",
   "metadata": {},
   "outputs": [
    {
     "data": {
      "text/plain": [
       "<AxesSubplot:xlabel='day_of_week', ylabel='Count'>"
      ]
     },
     "execution_count": 23,
     "metadata": {},
     "output_type": "execute_result"
    },
    {
     "data": {
      "image/png": "[encoded data removed]",
      "text/plain": [
       "<Figure size 432x288 with 1 Axes>"
      ]
     },
     "metadata": {
      "needs_background": "light"
     },
     "output_type": "display_data"
    }
   ],
   "source": [
    "sns.histplot(x='day_of_week', hue='y', data=df)"
   ]
  },
  {
   "cell_type": "markdown",
   "id": "3eb4c5f1",
   "metadata": {},
   "source": [
    "> The number of contacts and subscriptions is regular\n",
    "\n",
    "> It doesn't seems to have a better day to contact the potential subscribers"
   ]
  },
  {
   "cell_type": "markdown",
   "id": "ea05cda9",
   "metadata": {},
   "source": [
    "### Job"
   ]
  },
  {
   "cell_type": "code",
   "execution_count": 24,
   "id": "afd69831",
   "metadata": {},
   "outputs": [
    {
     "data": {
      "text/plain": [
       "<AxesSubplot:xlabel='job', ylabel='Count'>"
      ]
     },
     "execution_count": 24,
     "metadata": {},
     "output_type": "execute_result"
    },
    {
     "data": {
      "image/png": "[encoded data removed]",
      "text/plain": [
       "<Figure size 1224x360 with 1 Axes>"
      ]
     },
     "metadata": {
      "needs_background": "light"
     },
     "output_type": "display_data"
    }
   ],
   "source": [
    "plt.figure(figsize=(17,5))\n",
    "sns.histplot(x='job', hue='y', data=df)"
   ]
  },
  {
   "cell_type": "code",
   "execution_count": 25,
   "id": "5d5d1a04",
   "metadata": {},
   "outputs": [],
   "source": [
    "poutcome_grouped = df.groupby(['job', 'y'])['y'].count()\n",
    "poutcome_per = poutcome_grouped.groupby(level=0).apply(lambda x: 100 * x / float(x.sum()))"
   ]
  },
  {
   "cell_type": "code",
   "execution_count": 26,
   "id": "1a20c1b3",
   "metadata": {},
   "outputs": [
    {
     "data": {
      "text/plain": [
       "job            y  \n",
       "student        yes    31.428571\n",
       "retired        yes    25.232558\n",
       "unemployed     yes    14.201183\n",
       "admin.         yes    12.972558\n",
       "management     yes    11.217510\n",
       "unknown        yes    11.212121\n",
       "technician     yes    10.826042\n",
       "self-employed  yes    10.485574\n",
       "housemaid      yes    10.000000\n",
       "entrepreneur   yes     8.516484\n",
       "services       yes     8.138070\n",
       "blue-collar    yes     6.894316\n",
       "Name: y, dtype: float64"
      ]
     },
     "execution_count": 26,
     "metadata": {},
     "output_type": "execute_result"
    }
   ],
   "source": [
    "poutcome_per.filter(like='yes').sort_values(ascending=False)"
   ]
  },
  {
   "cell_type": "markdown",
   "id": "e7b61ac1",
   "metadata": {},
   "source": [
    "> Here we can see the proportion of each category of job with the corresponding percentage of subscriptions\n",
    "\n",
    "> The two categories most inclined to sub are student and retired"
   ]
  },
  {
   "cell_type": "markdown",
   "id": "6b83c5d8",
   "metadata": {},
   "source": [
    "### Education "
   ]
  },
  {
   "cell_type": "code",
   "execution_count": 27,
   "id": "0a536c5a",
   "metadata": {},
   "outputs": [
    {
     "data": {
      "text/plain": [
       "<AxesSubplot:xlabel='education', ylabel='Count'>"
      ]
     },
     "execution_count": 27,
     "metadata": {},
     "output_type": "execute_result"
    },
    {
     "data": {
      "image/png": "[encoded data removed]",
      "text/plain": [
       "<Figure size 1224x360 with 1 Axes>"
      ]
     },
     "metadata": {
      "needs_background": "light"
     },
     "output_type": "display_data"
    }
   ],
   "source": [
    "plt.figure(figsize=(17,5))\n",
    "sns.histplot(x='education', hue='y', data=df)"
   ]
  },
  {
   "cell_type": "code",
   "execution_count": 28,
   "id": "f708d820",
   "metadata": {},
   "outputs": [],
   "source": [
    "education_grouped = df.groupby(['education', 'y'])['y'].count()\n",
    "education_per = education_grouped.groupby(level=0).apply(lambda x: 100 * x / float(x.sum()))"
   ]
  },
  {
   "cell_type": "code",
   "execution_count": 29,
   "id": "664c6dc3",
   "metadata": {},
   "outputs": [
    {
     "data": {
      "text/plain": [
       "education            y  \n",
       "illiterate           yes    22.222222\n",
       "unknown              yes    14.500289\n",
       "university.degree    yes    13.724523\n",
       "professional.course  yes    11.348465\n",
       "high.school          yes    10.835523\n",
       "basic.4y             yes    10.249042\n",
       "basic.6y             yes     8.202443\n",
       "basic.9y             yes     7.824648\n",
       "Name: y, dtype: float64"
      ]
     },
     "execution_count": 29,
     "metadata": {},
     "output_type": "execute_result"
    }
   ],
   "source": [
    "education_per.filter(like='yes').sort_values(ascending=False)"
   ]
  },
  {
   "cell_type": "markdown",
   "id": "8ff83e67",
   "metadata": {},
   "source": [
    "> According to the data, the illiterate category is more inclined to subscribe (we can nuance this result by the low volume of observations in this category)\n",
    "\n",
    "> The percentage of subs is lower in basics categories"
   ]
  },
  {
   "cell_type": "markdown",
   "id": "b0a322ac",
   "metadata": {},
   "source": [
    "### Marital"
   ]
  },
  {
   "cell_type": "code",
   "execution_count": 30,
   "id": "ef1fd218",
   "metadata": {},
   "outputs": [
    {
     "data": {
      "text/plain": [
       "<AxesSubplot:xlabel='marital', ylabel='Count'>"
      ]
     },
     "execution_count": 30,
     "metadata": {},
     "output_type": "execute_result"
    },
    {
     "data": {
      "image/png": "[encoded data removed]",
      "text/plain": [
       "<Figure size 432x288 with 1 Axes>"
      ]
     },
     "metadata": {
      "needs_background": "light"
     },
     "output_type": "display_data"
    }
   ],
   "source": [
    "\n",
    "sns.histplot(x='marital', hue='y', data=df)"
   ]
  },
  {
   "cell_type": "code",
   "execution_count": 31,
   "id": "45e229a3",
   "metadata": {},
   "outputs": [],
   "source": [
    "marital_grouped = df.groupby(['marital', 'y'])['y'].count()\n",
    "marital_per = marital_grouped.groupby(level=0).apply(lambda x: 100 * x / float(x.sum()))"
   ]
  },
  {
   "cell_type": "code",
   "execution_count": 32,
   "id": "e4daacc1",
   "metadata": {},
   "outputs": [
    {
     "data": {
      "text/plain": [
       "marital   y  \n",
       "unknown   yes    15.000000\n",
       "single    yes    14.004149\n",
       "divorced  yes    10.320902\n",
       "married   yes    10.157253\n",
       "Name: y, dtype: float64"
      ]
     },
     "execution_count": 32,
     "metadata": {},
     "output_type": "execute_result"
    }
   ],
   "source": [
    "marital_per.filter(like='yes').sort_values(ascending=False)"
   ]
  },
  {
   "cell_type": "markdown",
   "id": "caca9f88",
   "metadata": {},
   "source": [
    "> The singles seems to be a little bit more interested in the subscription"
   ]
  },
  {
   "cell_type": "markdown",
   "id": "3abc3a8e",
   "metadata": {},
   "source": [
    "### Outliers"
   ]
  },
  {
   "cell_type": "code",
   "execution_count": 33,
   "id": "b3626d0d",
   "metadata": {},
   "outputs": [
    {
     "data": {
      "image/png": "[encoded data removed]",
      "text/plain": [
       "<Figure size 1224x720 with 10 Axes>"
      ]
     },
     "metadata": {
      "needs_background": "light"
     },
     "output_type": "display_data"
    }
   ],
   "source": [
    "c = 1 \n",
    "nrows = round(len(var_num.columns) / 3) + 1\n",
    "fig = plt.figure(figsize=(17,10))\n",
    "for i in var_num.columns:\n",
    "    plt.subplot(nrows, 3, c)\n",
    "    sns.boxplot(x=i, hue='y', data=df)\n",
    "    c += 1 \n",
    "plt.tight_layout()\n",
    "plt.show()"
   ]
  },
  {
   "cell_type": "markdown",
   "id": "915f327e",
   "metadata": {},
   "source": [
    "I can identify some outliers which can make the model perform worse\n",
    "\n",
    "Let's get rid of it"
   ]
  },
  {
   "cell_type": "code",
   "execution_count": 34,
   "id": "dda31f9a",
   "metadata": {
    "scrolled": true
   },
   "outputs": [
    {
     "data": {
      "text/html": [
       "<div>\n",
       "<style scoped>\n",
       "    .dataframe tbody tr th:only-of-type {\n",
       "        vertical-align: middle;\n",
       "    }\n",
       "\n",
       "    .dataframe tbody tr th {\n",
       "        vertical-align: top;\n",
       "    }\n",
       "\n",
       "    .dataframe thead th {\n",
       "        text-align: right;\n",
       "    }\n",
       "</style>\n",
       "<table border=\"1\" class=\"dataframe\">\n",
       "  <thead>\n",
       "    <tr style=\"text-align: right;\">\n",
       "      <th></th>\n",
       "      <th>age</th>\n",
       "      <th>job</th>\n",
       "      <th>marital</th>\n",
       "      <th>education</th>\n",
       "      <th>default</th>\n",
       "      <th>housing</th>\n",
       "      <th>loan</th>\n",
       "      <th>contact</th>\n",
       "      <th>month</th>\n",
       "      <th>day_of_week</th>\n",
       "      <th>...</th>\n",
       "      <th>pdays</th>\n",
       "      <th>previous</th>\n",
       "      <th>poutcome</th>\n",
       "      <th>emp.var.rate</th>\n",
       "      <th>cons.price.idx</th>\n",
       "      <th>cons.conf.idx</th>\n",
       "      <th>euribor3m</th>\n",
       "      <th>nr.employed</th>\n",
       "      <th>y</th>\n",
       "      <th>age_bins</th>\n",
       "    </tr>\n",
       "  </thead>\n",
       "  <tbody>\n",
       "    <tr>\n",
       "      <th>4107</th>\n",
       "      <td>32</td>\n",
       "      <td>admin.</td>\n",
       "      <td>married</td>\n",
       "      <td>university.degree</td>\n",
       "      <td>unknown</td>\n",
       "      <td>unknown</td>\n",
       "      <td>unknown</td>\n",
       "      <td>telephone</td>\n",
       "      <td>may</td>\n",
       "      <td>mon</td>\n",
       "      <td>...</td>\n",
       "      <td>999</td>\n",
       "      <td>0</td>\n",
       "      <td>nonexistent</td>\n",
       "      <td>1.1</td>\n",
       "      <td>93.994</td>\n",
       "      <td>-36.4</td>\n",
       "      <td>4.858</td>\n",
       "      <td>5191.0</td>\n",
       "      <td>no</td>\n",
       "      <td>25-34</td>\n",
       "    </tr>\n",
       "  </tbody>\n",
       "</table>\n",
       "<p>1 rows × 22 columns</p>\n",
       "</div>"
      ],
      "text/plain": [
       "      age     job  marital          education  default  housing     loan  \\\n",
       "4107   32  admin.  married  university.degree  unknown  unknown  unknown   \n",
       "\n",
       "        contact month day_of_week  ...  pdays  previous     poutcome  \\\n",
       "4107  telephone   may         mon  ...    999         0  nonexistent   \n",
       "\n",
       "      emp.var.rate cons.price.idx  cons.conf.idx  euribor3m  nr.employed   y  \\\n",
       "4107           1.1         93.994          -36.4      4.858       5191.0  no   \n",
       "\n",
       "      age_bins  \n",
       "4107     25-34  \n",
       "\n",
       "[1 rows x 22 columns]"
      ]
     },
     "execution_count": 34,
     "metadata": {},
     "output_type": "execute_result"
    }
   ],
   "source": [
    "df[df['campaign'] > 50]"
   ]
  },
  {
   "cell_type": "code",
   "execution_count": 35,
   "id": "ea308aec",
   "metadata": {},
   "outputs": [],
   "source": [
    "df.drop(4107, inplace=True)"
   ]
  },
  {
   "cell_type": "code",
   "execution_count": 36,
   "id": "045b8364",
   "metadata": {},
   "outputs": [],
   "source": [
    "idx_to_drop = df[df['cons.conf.idx'] > -27].index"
   ]
  },
  {
   "cell_type": "code",
   "execution_count": 37,
   "id": "d33b0107",
   "metadata": {},
   "outputs": [],
   "source": [
    "df.drop(idx_to_drop, inplace=True)"
   ]
  },
  {
   "cell_type": "code",
   "execution_count": 38,
   "id": "07311cd3",
   "metadata": {},
   "outputs": [
    {
     "data": {
      "text/plain": [
       "(40740, 22)"
      ]
     },
     "execution_count": 38,
     "metadata": {},
     "output_type": "execute_result"
    }
   ],
   "source": [
    "df.shape"
   ]
  },
  {
   "cell_type": "markdown",
   "id": "302c36f6",
   "metadata": {},
   "source": [
    "# Preprocessing"
   ]
  },
  {
   "cell_type": "code",
   "execution_count": 39,
   "id": "9174d191",
   "metadata": {},
   "outputs": [],
   "source": [
    "from sklearn.preprocessing import LabelEncoder, StandardScaler\n",
    "from sklearn.model_selection import train_test_split"
   ]
  },
  {
   "cell_type": "markdown",
   "id": "b2ba9021",
   "metadata": {},
   "source": [
    "The column 'age_bins' was for the purpose oh the analysis, we can now delete it"
   ]
  },
  {
   "cell_type": "code",
   "execution_count": 40,
   "id": "c6ca9758",
   "metadata": {},
   "outputs": [],
   "source": [
    "df.drop('age_bins', axis=1, inplace=True)"
   ]
  },
  {
   "cell_type": "markdown",
   "id": "92d513a2",
   "metadata": {},
   "source": [
    "### Encode"
   ]
  },
  {
   "cell_type": "code",
   "execution_count": 41,
   "id": "793bc08a",
   "metadata": {},
   "outputs": [],
   "source": [
    "le = LabelEncoder()\n",
    "df['y'] = le.fit_transform(df['y'])"
   ]
  },
  {
   "cell_type": "code",
   "execution_count": 42,
   "id": "af1ddf36",
   "metadata": {
    "scrolled": true
   },
   "outputs": [
    {
     "name": "stdout",
     "output_type": "stream",
     "text": [
      "job : 12\n",
      "marital : 4\n",
      "education : 8\n",
      "default : 3\n",
      "housing : 3\n",
      "loan : 3\n",
      "contact : 2\n",
      "month : 10\n",
      "day_of_week : 5\n",
      "poutcome : 3\n",
      "y : 2\n"
     ]
    }
   ],
   "source": [
    "for i in var_cat.columns:\n",
    "    print(str(i) + ' : ' + str(var_cat[i].nunique())) "
   ]
  },
  {
   "cell_type": "markdown",
   "id": "dfeb4dac",
   "metadata": {},
   "source": [
    "We have low cardinality for categorical variables so we can apply one hot encoding"
   ]
  },
  {
   "cell_type": "code",
   "execution_count": 43,
   "id": "b90f2aa2",
   "metadata": {},
   "outputs": [],
   "source": [
    "df = pd.get_dummies(df)"
   ]
  },
  {
   "cell_type": "markdown",
   "id": "2d4d406a",
   "metadata": {},
   "source": [
    "### Split "
   ]
  },
  {
   "cell_type": "code",
   "execution_count": 44,
   "id": "c6c8d409",
   "metadata": {},
   "outputs": [],
   "source": [
    "df.drop('duration', axis=1, inplace=True)"
   ]
  },
  {
   "cell_type": "code",
   "execution_count": 70,
   "id": "43d6adcd",
   "metadata": {},
   "outputs": [],
   "source": [
    "X = df.copy()\n",
    "y = X.pop('y')"
   ]
  },
  {
   "cell_type": "code",
   "execution_count": 71,
   "id": "8f69b16a",
   "metadata": {},
   "outputs": [],
   "source": [
    "X_train, X_test, y_train, y_test = train_test_split(X, y, stratify=y, random_state=6)"
   ]
  },
  {
   "cell_type": "markdown",
   "id": "697d1ff3",
   "metadata": {},
   "source": [
    "### Balance"
   ]
  },
  {
   "cell_type": "code",
   "execution_count": 203,
   "id": "e62a6450",
   "metadata": {
    "scrolled": true
   },
   "outputs": [
    {
     "name": "stdout",
     "output_type": "stream",
     "text": [
      "Collecting imbalanced-learn\n",
      "  Using cached imbalanced_learn-0.9.0-py3-none-any.whl (199 kB)\n",
      "Requirement already satisfied: numpy>=1.14.6 in c:\\users\\riche\\anaconda3\\lib\\site-packages (from imbalanced-learn) (1.19.1)\n",
      "Requirement already satisfied: scikit-learn>=1.0.1 in c:\\users\\riche\\anaconda3\\lib\\site-packages (from imbalanced-learn) (1.0.2)\n",
      "Requirement already satisfied: threadpoolctl>=2.0.0 in c:\\users\\riche\\anaconda3\\lib\\site-packages (from imbalanced-learn) (2.2.0)\n",
      "Requirement already satisfied: joblib>=0.11 in c:\\users\\riche\\appdata\\roaming\\python\\python38\\site-packages (from imbalanced-learn) (1.0.0)\n",
      "Requirement already satisfied: scipy>=1.1.0 in c:\\users\\riche\\anaconda3\\lib\\site-packages (from imbalanced-learn) (1.5.4)\n",
      "Installing collected packages: imbalanced-learn\n",
      "Successfully installed imbalanced-learn-0.9.0\n",
      "Note: you may need to restart the kernel to use updated packages.\n"
     ]
    }
   ],
   "source": [
    "pip install imbalanced-learn"
   ]
  },
  {
   "cell_type": "markdown",
   "id": "92b52220",
   "metadata": {},
   "source": [
    "I now have to take care of the high imbalanced target\n",
    "\n",
    "I'll use Smote which is an over sampling method based on k nearest neighbors"
   ]
  },
  {
   "cell_type": "code",
   "execution_count": 72,
   "id": "de139308",
   "metadata": {},
   "outputs": [],
   "source": [
    "from imblearn.over_sampling import SMOTE"
   ]
  },
  {
   "cell_type": "code",
   "execution_count": 73,
   "id": "366fc6eb",
   "metadata": {},
   "outputs": [],
   "source": [
    "oversample = SMOTE()"
   ]
  },
  {
   "cell_type": "code",
   "execution_count": 74,
   "id": "04b60670",
   "metadata": {},
   "outputs": [],
   "source": [
    "X_train, y_train = oversample.fit_resample(X_train, y_train)\n",
    "X_test, y_test = oversample.fit_resample(X_test, y_test)"
   ]
  },
  {
   "cell_type": "markdown",
   "id": "06cc56ff",
   "metadata": {},
   "source": [
    "### Scale"
   ]
  },
  {
   "cell_type": "code",
   "execution_count": 75,
   "id": "ab721513",
   "metadata": {},
   "outputs": [],
   "source": [
    "scaler = StandardScaler()\n",
    "X_train = scaler.fit_transform(X_train)\n",
    "X_test = scaler.transform(X_test)"
   ]
  },
  {
   "cell_type": "markdown",
   "id": "7d54b0c2",
   "metadata": {},
   "source": [
    "# Model"
   ]
  },
  {
   "cell_type": "code",
   "execution_count": 47,
   "id": "69ce7461",
   "metadata": {},
   "outputs": [
    {
     "name": "stdout",
     "output_type": "stream",
     "text": [
      "Requirement already satisfied: catboost in c:\\users\\riche\\anaconda3\\lib\\site-packages (1.0.3)Note: you may need to restart the kernel to use updated packages.\n",
      "Requirement already satisfied: scipy in c:\\users\\riche\\anaconda3\\lib\\site-packages (from catboost) (1.5.4)\n",
      "Requirement already satisfied: pandas>=0.24.0 in c:\\users\\riche\\appdata\\roaming\\python\\python38\\site-packages (from catboost) (1.0.5)\n",
      "Requirement already satisfied: numpy>=1.16.0 in c:\\users\\riche\\anaconda3\\lib\\site-packages (from catboost) (1.19.1)\n",
      "\n",
      "Requirement already satisfied: matplotlib in c:\\users\\riche\\anaconda3\\lib\\site-packages (from catboost) (3.4.2)\n",
      "Requirement already satisfied: six in c:\\users\\riche\\anaconda3\\lib\\site-packages (from catboost) (1.15.0)\n",
      "Requirement already satisfied: plotly in c:\\users\\riche\\anaconda3\\lib\\site-packages (from catboost) (5.5.0)\n",
      "Requirement already satisfied: graphviz in c:\\users\\riche\\anaconda3\\lib\\site-packages (from catboost) (0.19.1)\n",
      "Requirement already satisfied: python-dateutil>=2.6.1 in c:\\users\\riche\\anaconda3\\lib\\site-packages (from pandas>=0.24.0->catboost) (2.8.2)\n",
      "Requirement already satisfied: pytz>=2017.2 in c:\\users\\riche\\anaconda3\\lib\\site-packages (from pandas>=0.24.0->catboost) (2021.1)\n",
      "Requirement already satisfied: pyparsing>=2.2.1 in c:\\users\\riche\\anaconda3\\lib\\site-packages (from matplotlib->catboost) (2.4.7)\n",
      "Requirement already satisfied: kiwisolver>=1.0.1 in c:\\users\\riche\\anaconda3\\lib\\site-packages (from matplotlib->catboost) (1.3.1)\n",
      "Requirement already satisfied: pillow>=6.2.0 in c:\\users\\riche\\anaconda3\\lib\\site-packages (from matplotlib->catboost) (8.3.1)\n",
      "Requirement already satisfied: cycler>=0.10 in c:\\users\\riche\\anaconda3\\lib\\site-packages (from matplotlib->catboost) (0.10.0)\n",
      "Requirement already satisfied: tenacity>=6.2.0 in c:\\users\\riche\\anaconda3\\lib\\site-packages (from plotly->catboost) (8.0.1)\n"
     ]
    }
   ],
   "source": [
    "pip install catboost"
   ]
  },
  {
   "cell_type": "code",
   "execution_count": 67,
   "id": "873f29df",
   "metadata": {},
   "outputs": [],
   "source": [
    "from sklearn.linear_model import LogisticRegression\n",
    "from sklearn.ensemble import RandomForestClassifier\n",
    "from xgboost import XGBClassifier \n",
    "from lightgbm import LGBMClassifier\n",
    "from catboost import CatBoostClassifier\n",
    "from sklearn.metrics import classification_report"
   ]
  },
  {
   "cell_type": "markdown",
   "id": "7b9ae421",
   "metadata": {},
   "source": [
    "According to our goal, we'll look at first at the recall as metrics. \n",
    "\n",
    "Indeed we want to avoid the false negatives which are for this campaign a missed opportunity."
   ]
  },
  {
   "cell_type": "code",
   "execution_count": 76,
   "id": "9fb68dbc",
   "metadata": {},
   "outputs": [],
   "source": [
    "estimators = [LogisticRegression(),\n",
    "             RandomForestClassifier(),\n",
    "             XGBClassifier(),\n",
    "             LGBMClassifier(),\n",
    "             CatBoostClassifier(verbose=0)]"
   ]
  },
  {
   "cell_type": "code",
   "execution_count": 77,
   "id": "8f0ccb12",
   "metadata": {},
   "outputs": [
    {
     "name": "stderr",
     "output_type": "stream",
     "text": [
      "C:\\Users\\riche\\anaconda3\\lib\\site-packages\\sklearn\\linear_model\\_logistic.py:814: ConvergenceWarning: lbfgs failed to converge (status=1):\n",
      "STOP: TOTAL NO. of ITERATIONS REACHED LIMIT.\n",
      "\n",
      "Increase the number of iterations (max_iter) or scale the data as shown in:\n",
      "    https://scikit-learn.org/stable/modules/preprocessing.html\n",
      "Please also refer to the documentation for alternative solver options:\n",
      "    https://scikit-learn.org/stable/modules/linear_model.html#logistic-regression\n",
      "  n_iter_i = _check_optimize_result(\n"
     ]
    },
    {
     "name": "stdout",
     "output_type": "stream",
     "text": [
      "LogisticRegression():\n",
      "              precision    recall  f1-score   support\n",
      "\n",
      "           0       0.91      0.98      0.95      9070\n",
      "           1       0.98      0.91      0.94      9070\n",
      "\n",
      "    accuracy                           0.95     18140\n",
      "   macro avg       0.95      0.95      0.94     18140\n",
      "weighted avg       0.95      0.95      0.94     18140\n",
      "\n",
      "RandomForestClassifier():\n",
      "              precision    recall  f1-score   support\n",
      "\n",
      "           0       0.89      0.96      0.92      9070\n",
      "           1       0.95      0.88      0.92      9070\n",
      "\n",
      "    accuracy                           0.92     18140\n",
      "   macro avg       0.92      0.92      0.92     18140\n",
      "weighted avg       0.92      0.92      0.92     18140\n",
      "\n",
      "XGBClassifier(base_score=0.5, booster='gbtree', colsample_bylevel=1,\n",
      "              colsample_bynode=1, colsample_bytree=1, gamma=0, gpu_id=-1,\n",
      "              importance_type='gain', interaction_constraints='',\n",
      "              learning_rate=0.300000012, max_delta_step=0, max_depth=6,\n",
      "              min_child_weight=1, missing=nan, monotone_constraints='()',\n",
      "              n_estimators=100, n_jobs=0, num_parallel_tree=1, random_state=0,\n",
      "              reg_alpha=0, reg_lambda=1, scale_pos_weight=1, subsample=1,\n",
      "              tree_method='exact', validate_parameters=1, verbosity=None):\n",
      "              precision    recall  f1-score   support\n",
      "\n",
      "           0       0.92      0.97      0.95      9070\n",
      "           1       0.97      0.92      0.94      9070\n",
      "\n",
      "    accuracy                           0.94     18140\n",
      "   macro avg       0.95      0.94      0.94     18140\n",
      "weighted avg       0.95      0.94      0.94     18140\n",
      "\n",
      "LGBMClassifier():\n",
      "              precision    recall  f1-score   support\n",
      "\n",
      "           0       0.92      0.97      0.95      9070\n",
      "           1       0.97      0.92      0.94      9070\n",
      "\n",
      "    accuracy                           0.95     18140\n",
      "   macro avg       0.95      0.95      0.95     18140\n",
      "weighted avg       0.95      0.95      0.95     18140\n",
      "\n",
      "<catboost.core.CatBoostClassifier object at 0x000001D244305D60>:\n",
      "              precision    recall  f1-score   support\n",
      "\n",
      "           0       0.92      0.97      0.94      9070\n",
      "           1       0.97      0.91      0.94      9070\n",
      "\n",
      "    accuracy                           0.94     18140\n",
      "   macro avg       0.94      0.94      0.94     18140\n",
      "weighted avg       0.94      0.94      0.94     18140\n",
      "\n"
     ]
    }
   ],
   "source": [
    "for i in estimators:\n",
    "    i.fit(X_train, y_train)\n",
    "    y_pred = i.predict(X_test)\n",
    "    print(str(i) + ':\\n' + str(classification_report(y_test, y_pred)))"
   ]
  },
  {
   "cell_type": "markdown",
   "id": "b5103198",
   "metadata": {},
   "source": [
    "The best result (recall score and accuracy) come with the random forest classifier\n",
    "\n",
    "I'll pursue with it "
   ]
  },
  {
   "cell_type": "code",
   "execution_count": 82,
   "id": "0da2a72c",
   "metadata": {},
   "outputs": [
    {
     "name": "stdout",
     "output_type": "stream",
     "text": [
      "Requirement already satisfied: optuna in c:\\users\\riche\\anaconda3\\lib\\site-packages (2.10.0)\n",
      "Requirement already satisfied: PyYAML in c:\\users\\riche\\appdata\\roaming\\python\\python38\\site-packages (from optuna) (5.3.1)\n",
      "Requirement already satisfied: colorlog in c:\\users\\riche\\anaconda3\\lib\\site-packages (from optuna) (6.6.0)\n",
      "Requirement already satisfied: numpy in c:\\users\\riche\\anaconda3\\lib\\site-packages (from optuna) (1.19.1)\n",
      "Requirement already satisfied: tqdm in c:\\users\\riche\\appdata\\roaming\\python\\python38\\site-packages (from optuna) (4.56.0)\n",
      "Requirement already satisfied: cmaes>=0.8.2 in c:\\users\\riche\\anaconda3\\lib\\site-packages (from optuna) (0.8.2)\n",
      "Requirement already satisfied: alembic in c:\\users\\riche\\anaconda3\\lib\\site-packages (from optuna) (1.7.5)\n",
      "Requirement already satisfied: sqlalchemy>=1.1.0 in c:\\users\\riche\\anaconda3\\lib\\site-packages (from optuna) (1.4.22)\n",
      "Requirement already satisfied: scipy!=1.4.0 in c:\\users\\riche\\anaconda3\\lib\\site-packages (from optuna) (1.5.4)\n",
      "Requirement already satisfied: packaging>=20.0 in c:\\users\\riche\\anaconda3\\lib\\site-packages (from optuna) (21.0)\n",
      "Requirement already satisfied: cliff in c:\\users\\riche\\anaconda3\\lib\\site-packages (from optuna) (3.10.0)\n",
      "Requirement already satisfied: pyparsing>=2.0.2 in c:\\users\\riche\\anaconda3\\lib\\site-packages (from packaging>=20.0->optuna) (2.4.7)\n",
      "Requirement already satisfied: greenlet!=0.4.17 in c:\\users\\riche\\anaconda3\\lib\\site-packages (from sqlalchemy>=1.1.0->optuna) (1.1.1)\n",
      "Requirement already satisfied: importlib-resources in c:\\users\\riche\\anaconda3\\lib\\site-packages (from alembic->optuna) (5.4.0)\n",
      "Requirement already satisfied: importlib-metadata in c:\\users\\riche\\anaconda3\\lib\\site-packages (from alembic->optuna) (4.8.1)\n",
      "Requirement already satisfied: Mako in c:\\users\\riche\\anaconda3\\lib\\site-packages (from alembic->optuna) (1.1.6)\n",
      "Requirement already satisfied: autopage>=0.4.0 in c:\\users\\riche\\anaconda3\\lib\\site-packages (from cliff->optuna) (0.4.0)\n",
      "Requirement already satisfied: PrettyTable>=0.7.2 in c:\\users\\riche\\anaconda3\\lib\\site-packages (from cliff->optuna) (3.0.0)\n",
      "Requirement already satisfied: cmd2>=1.0.0 in c:\\users\\riche\\anaconda3\\lib\\site-packages (from cliff->optuna) (2.3.3)\n",
      "Requirement already satisfied: pbr!=2.1.0,>=2.0.0 in c:\\users\\riche\\anaconda3\\lib\\site-packages (from cliff->optuna) (5.8.0)\n",
      "Requirement already satisfied: stevedore>=2.0.1 in c:\\users\\riche\\anaconda3\\lib\\site-packages (from cliff->optuna) (3.5.0)Note: you may need to restart the kernel to use updated packages.\n",
      "Requirement already satisfied: pyreadline3 in c:\\users\\riche\\anaconda3\\lib\\site-packages (from cmd2>=1.0.0->cliff->optuna) (3.3)\n",
      "Requirement already satisfied: pyperclip>=1.6 in c:\\users\\riche\\anaconda3\\lib\\site-packages (from cmd2>=1.0.0->cliff->optuna) (1.8.2)\n",
      "Requirement already satisfied: wcwidth>=0.1.7 in c:\\users\\riche\\anaconda3\\lib\\site-packages (from cmd2>=1.0.0->cliff->optuna) (0.2.5)\n",
      "Requirement already satisfied: attrs>=16.3.0 in c:\\users\\riche\\anaconda3\\lib\\site-packages (from cmd2>=1.0.0->cliff->optuna) (21.2.0)\n",
      "Requirement already satisfied: colorama in c:\\users\\riche\\anaconda3\\lib\\site-packages (from colorlog->optuna) (0.4.4)\n",
      "Requirement already satisfied: zipp>=0.5 in c:\\users\\riche\\anaconda3\\lib\\site-packages (from importlib-metadata->alembic->optuna) (3.5.0)\n",
      "Requirement already satisfied: MarkupSafe>=0.9.2 in c:\\users\\riche\\anaconda3\\lib\\site-packages (from Mako->alembic->optuna) (1.1.1)\n",
      "\n"
     ]
    }
   ],
   "source": [
    "pip install optuna"
   ]
  },
  {
   "cell_type": "code",
   "execution_count": 83,
   "id": "554a79dc",
   "metadata": {},
   "outputs": [],
   "source": [
    "import optuna\n",
    "from optuna.samplers import TPESampler"
   ]
  },
  {
   "cell_type": "markdown",
   "id": "79553f7b",
   "metadata": {},
   "source": [
    "### Duplicate values"
   ]
  },
  {
   "cell_type": "markdown",
   "id": "c009b23c",
   "metadata": {},
   "source": [
    "one hot encoder \n",
    "\n",
    "age bins"
   ]
  },
  {
   "cell_type": "code",
   "execution_count": null,
   "id": "4046828d",
   "metadata": {},
   "outputs": [],
   "source": []
  }
 ],
 "metadata": {
  "kernelspec": {
   "display_name": "Python 3 (ipykernel)",
   "language": "python",
   "name": "python3"
  },
  "language_info": {
   "codemirror_mode": {
    "name": "ipython",
    "version": 3
   },
   "file_extension": ".py",
   "mimetype": "text/x-python",
   "name": "python",
   "nbconvert_exporter": "python",
   "pygments_lexer": "ipython3",
   "version": "3.8.11"
  }
 },
 "nbformat": 4,
 "nbformat_minor": 5
}
